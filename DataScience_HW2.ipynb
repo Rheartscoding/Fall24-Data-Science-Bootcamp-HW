{
  "nbformat": 4,
  "nbformat_minor": 0,
  "metadata": {
    "colab": {
      "provenance": [],
      "authorship_tag": "ABX9TyPPOCmk9gPNg4/NhlmcHdEc",
      "include_colab_link": true
    },
    "kernelspec": {
      "name": "python3",
      "display_name": "Python 3"
    },
    "language_info": {
      "name": "python"
    }
  },
  "cells": [
    {
      "cell_type": "markdown",
      "metadata": {
        "id": "view-in-github",
        "colab_type": "text"
      },
      "source": [
        "<a href=\"https://colab.research.google.com/github/Rheartscoding/Fall24-Data-Science-Bootcamp-HW/blob/main/DataScience_HW2.ipynb\" target=\"_parent\"><img src=\"https://colab.research.google.com/assets/colab-badge.svg\" alt=\"Open In Colab\"/></a>"
      ]
    },
    {
      "cell_type": "markdown",
      "source": [
        "From the DataFrame df, filter the 'Manufacturer', 'Model', and 'Type' for every 20th row starting from the 1st row (row 0):"
      ],
      "metadata": {
        "id": "tl4Bxbgv_r2m"
      }
    },
    {
      "cell_type": "code",
      "source": [
        "\n",
        "import pandas as pd\n",
        "\n",
        "# Read the DataFrame from the provided URL\n",
        "df = pd.read_csv('https://raw.githubusercontent.com/selva86/datasets/master/Cars93_miss.csv')\n",
        "\n",
        "# Filter the 'Manufacturer', 'Model', and 'Type' columns for every 20th row starting from the 1st row\n",
        "filtered_df = df.loc[::20, ['Manufacturer', 'Model', 'Type']]\n",
        "\n",
        "print(filtered_df)"
      ],
      "metadata": {
        "colab": {
          "base_uri": "https://localhost:8080/"
        },
        "id": "MdixhyrZ_tes",
        "outputId": "5ddc204e-0a1d-4e34-80c5-7d927b284c10"
      },
      "execution_count": null,
      "outputs": [
        {
          "output_type": "stream",
          "name": "stdout",
          "text": [
            "   Manufacturer    Model     Type\n",
            "0         Acura  Integra    Small\n",
            "20     Chrysler  LeBaron  Compact\n",
            "40        Honda  Prelude   Sporty\n",
            "60      Mercury   Cougar  Midsize\n",
            "80       Subaru   Loyale    Small\n"
          ]
        }
      ]
    },
    {
      "cell_type": "markdown",
      "source": [
        "Replace missing values in Min.Price and Max.Price columns with their respective mean"
      ],
      "metadata": {
        "id": "YLzD_Eu1AK_A"
      }
    },
    {
      "cell_type": "code",
      "source": [
        "\n",
        "df['Min.Price'].fillna(df['Min.Price'].mean(), inplace=True)\n",
        "df['Max.Price'].fillna(df['Max.Price'].mean(), inplace=True)\n",
        "print(df[['Min.Price', 'Max.Price']])"
      ],
      "metadata": {
        "colab": {
          "base_uri": "https://localhost:8080/"
        },
        "id": "g5Q_cCiZAL4O",
        "outputId": "ed5fc582-9133-4ea5-b7df-6687df417a14"
      },
      "execution_count": null,
      "outputs": [
        {
          "output_type": "stream",
          "name": "stdout",
          "text": [
            "    Min.Price  Max.Price\n",
            "0   12.900000  18.800000\n",
            "1   29.200000  38.700000\n",
            "2   25.900000  32.300000\n",
            "3   17.118605  44.600000\n",
            "4   17.118605  21.459091\n",
            "..        ...        ...\n",
            "88  16.600000  22.700000\n",
            "89  17.600000  22.400000\n",
            "90  22.900000  23.700000\n",
            "91  21.800000  23.500000\n",
            "92  24.800000  28.500000\n",
            "\n",
            "[93 rows x 2 columns]\n"
          ]
        },
        {
          "output_type": "stream",
          "name": "stderr",
          "text": [
            "<ipython-input-2-89841bb278c5>:1: FutureWarning: A value is trying to be set on a copy of a DataFrame or Series through chained assignment using an inplace method.\n",
            "The behavior will change in pandas 3.0. This inplace method will never work because the intermediate object on which we are setting values always behaves as a copy.\n",
            "\n",
            "For example, when doing 'df[col].method(value, inplace=True)', try using 'df.method({col: value}, inplace=True)' or df[col] = df[col].method(value) instead, to perform the operation inplace on the original object.\n",
            "\n",
            "\n",
            "  df['Min.Price'].fillna(df['Min.Price'].mean(), inplace=True)\n",
            "<ipython-input-2-89841bb278c5>:2: FutureWarning: A value is trying to be set on a copy of a DataFrame or Series through chained assignment using an inplace method.\n",
            "The behavior will change in pandas 3.0. This inplace method will never work because the intermediate object on which we are setting values always behaves as a copy.\n",
            "\n",
            "For example, when doing 'df[col].method(value, inplace=True)', try using 'df.method({col: value}, inplace=True)' or df[col] = df[col].method(value) instead, to perform the operation inplace on the original object.\n",
            "\n",
            "\n",
            "  df['Max.Price'].fillna(df['Max.Price'].mean(), inplace=True)\n"
          ]
        }
      ]
    },
    {
      "cell_type": "markdown",
      "source": [
        "3)How to get the rows of a dataframe with row sum > 100? df = pd.DataFrame(np.random.randint(10, 40, 60).reshape(-1, 4))\n"
      ],
      "metadata": {
        "id": "JYD1whrWAeUr"
      }
    },
    {
      "cell_type": "code",
      "source": [
        "import numpy as np\n",
        "df = pd.DataFrame(np.random.randint(10, 40, 60).reshape(-1, 4))\n",
        "print(df)\n",
        "row_sum_gt_100 = df[df.sum(axis=1) > 100]\n",
        "print(row_sum_gt_100)"
      ],
      "metadata": {
        "colab": {
          "base_uri": "https://localhost:8080/"
        },
        "id": "-Dal102_Ah_v",
        "outputId": "a04b0a09-b872-4759-edf2-82ee8fd46fb6"
      },
      "execution_count": null,
      "outputs": [
        {
          "output_type": "stream",
          "name": "stdout",
          "text": [
            "     0   1   2   3\n",
            "0   39  37  27  38\n",
            "1   30  33  21  25\n",
            "2   27  16  18  16\n",
            "3   32  30  19  38\n",
            "4   21  36  24  29\n",
            "5   29  33  21  12\n",
            "6   31  24  28  19\n",
            "7   39  28  27  32\n",
            "8   27  33  27  32\n",
            "9   37  15  22  11\n",
            "10  38  27  19  33\n",
            "11  17  17  29  11\n",
            "12  29  33  17  17\n",
            "13  17  10  15  17\n",
            "14  31  34  10  38\n",
            "     0   1   2   3\n",
            "0   39  37  27  38\n",
            "1   30  33  21  25\n",
            "3   32  30  19  38\n",
            "4   21  36  24  29\n",
            "6   31  24  28  19\n",
            "7   39  28  27  32\n",
            "8   27  33  27  32\n",
            "10  38  27  19  33\n",
            "14  31  34  10  38\n"
          ]
        }
      ]
    },
    {
      "cell_type": "markdown",
      "source": [
        "Create a 4x4 NumPy array filled with random integers between 1 and 100. Then, reshape this array into two separate 2D arrays, where one represents the rows and the other represents the columns. Write a function, preferably using a lambda function, to calculate the sum of each row and each column separately, and return the results as two separate NumPy arrays:"
      ],
      "metadata": {
        "id": "W9mN4-UIAlVL"
      }
    },
    {
      "cell_type": "code",
      "source": [
        "# Creating a 4x4 NumPy array filled with random integers between 1 and 100\n",
        "data = np.random.randint(1, 101, (4, 4))\n",
        "\n",
        "# Reshaping the array into separate arrays representing rows and columns\n",
        "rows = data.reshape(4, 4)\n",
        "columns = data.T.reshape(4, 4)\n",
        "\n",
        "# Defining a lambda function to calculate the sum of rows and columns. Notice the axis\n",
        "sum_rows = lambda array: np.sum(array, axis=1)\n",
        "sum_columns = lambda array: np.sum(array, axis=1)\n",
        "\n",
        "# Calculate the sum of each row and column separately\n",
        "sum_of_rows = sum_rows(rows)\n",
        "sum_of_columns = sum_columns(columns)\n",
        "\n",
        "print(\" Original Array:\",data)\n",
        "print(\"Sum of rows:\", sum_of_rows)\n",
        "print(\"Sum of columns:\", sum_of_columns)"
      ],
      "metadata": {
        "colab": {
          "base_uri": "https://localhost:8080/"
        },
        "id": "Mmlob2WPAobW",
        "outputId": "d55d91a8-7e25-4537-abfa-10980a548991"
      },
      "execution_count": null,
      "outputs": [
        {
          "output_type": "stream",
          "name": "stdout",
          "text": [
            " Original Array: [[37 90 55 80]\n",
            " [47  6 65  5]\n",
            " [90 83 77 86]\n",
            " [93 41 43 40]]\n",
            "Sum of rows: [262 123 336 217]\n",
            "Sum of columns: [267 220 240 211]\n"
          ]
        }
      ]
    }
  ]
}